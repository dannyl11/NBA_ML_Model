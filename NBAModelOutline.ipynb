{
 "cells": [
  {
   "cell_type": "markdown",
   "metadata": {},
   "source": [
    "# NBA Moneyline Model"
   ]
  },
  {
   "cell_type": "markdown",
   "metadata": {},
   "source": [
    "Outlining my logistic regression model I built for betting on NBA games. Note: \n",
    "I am looking for value in betting, that is, not quite predicting who wins, but \n",
    "finding disparities in the odds sportsbooks give a team to win and the odds my \n",
    "model gives them to win."
   ]
  },
  {
   "cell_type": "markdown",
   "metadata": {},
   "source": [
    "#### Necessary Packages"
   ]
  },
  {
   "cell_type": "code",
   "execution_count": null,
   "metadata": {},
   "outputs": [],
   "source": [
    "import requests\n",
    "import pandas \n",
    "from nba_api.stats.static import teams\n",
    "from nba_api.stats.endpoints import leaguegamefinder\n",
    "from io import StringIO\n",
    "from sklearn.model_selection import train_test_split\n",
    "from sklearn.linear_model import LogisticRegression \n",
    "import pandas as pd "
   ]
  },
  {
   "cell_type": "markdown",
   "metadata": {},
   "source": [
    "The requests and io libraries are used for web scraping data from basketball-reference.com and the NBA API is used to pull data from nba.com. "
   ]
  },
  {
   "cell_type": "markdown",
   "metadata": {},
   "source": [
    "#### Setup"
   ]
  },
  {
   "cell_type": "markdown",
   "metadata": {},
   "source": [
    "To start, the model takes user inputs on the betting team, their opponent, whether the betting team is home or away, and the Vegas moneyline odds for the team you are betting on."
   ]
  },
  {
   "cell_type": "markdown",
   "metadata": {},
   "source": [
    "#### Building the Dataframe"
   ]
  },
  {
   "cell_type": "markdown",
   "metadata": {},
   "source": [
    "##### Features"
   ]
  },
  {
   "cell_type": "code",
   "execution_count": null,
   "metadata": {},
   "outputs": [],
   "source": [
    "featureCols = ['H1/A0', 'NetRtg', 'SRS', 'eFG%', 'OREB%', 'TOV%', 'DREB%']"
   ]
  },
  {
   "cell_type": "markdown",
   "metadata": {},
   "source": [
    "The features are home/away (inputted as 1s or 0s), Net Rating, Simple Rating System, Effective FG%, Offensive Rebound %, Turnover % and Defensive Rebound % for the opposing team."
   ]
  },
  {
   "cell_type": "markdown",
   "metadata": {},
   "source": [
    "##### Obtaining Data"
   ]
  },
  {
   "cell_type": "markdown",
   "metadata": {},
   "source": [
    "The data was obtained using the following lines of code:"
   ]
  },
  {
   "cell_type": "code",
   "execution_count": null,
   "metadata": {},
   "outputs": [],
   "source": [
    "teamID = 1610612749 #(Milwaukee Bucks)\n",
    "gamefinder = leaguegamefinder.LeagueGameFinder(team_id_nullable=str(teamID),\n",
    "                                        season_type_nullable='Regular Season')\n",
    "games = gamefinder.get_data_frames()[0]"
   ]
  },
  {
   "cell_type": "code",
   "execution_count": null,
   "metadata": {},
   "outputs": [],
   "source": [
    "url = 'https://www.basketball-reference.com/leagues/NBA_2025.html'\n",
    "response = requests.get(url)\n",
    "teamStats = pd.read_html(StringIO(response.text), attrs={'id':'advanced-team'}, \n",
    "                         header=1)[0]"
   ]
  },
  {
   "cell_type": "markdown",
   "metadata": {},
   "source": [
    "##### Creating the Dataframe to Train the Model"
   ]
  },
  {
   "cell_type": "markdown",
   "metadata": {},
   "source": [
    "The above code first gathers the past 200 games with the feature variables of their opponent in each game. Then, their current opponent and their feature variables are added to the last row of the dataframe. "
   ]
  },
  {
   "cell_type": "markdown",
   "metadata": {},
   "source": [
    "For example, if I am betting on the Milwaukee Bucks at home against the Miami Heat, the dataframe the model would use would look like this (Note values here are unweighted): "
   ]
  },
  {
   "cell_type": "code",
   "execution_count": 1,
   "metadata": {},
   "outputs": [
    {
     "name": "stdout",
     "output_type": "stream",
     "text": [
      "      Opponent  H1/A0  W/L  NetRtg    SRS   eFG%  OREB%  TOV%  DREB%\n",
      "0        Magic      0    1    -1.8  -2.18  0.501   25.5  13.3   78.3\n",
      "1        Kings      0    1     1.2   1.26  0.542   24.5  11.4   76.5\n",
      "2    Mavericks      0    1     1.9   2.41  0.550   25.6  12.8   73.8\n",
      "3      Rockets      0    0     4.9   5.67  0.513   31.5  11.8   75.4\n",
      "4     Warriors      0    1    -0.2   0.76  0.529   26.9  12.4   76.0\n",
      "..         ...    ...  ...     ...    ...    ...    ...   ...    ...\n",
      "196    Blazers      0    0    -5.1  -4.62  0.521   28.1  14.1   71.9\n",
      "197      Spurs      0    0    -1.6  -1.06  0.536   24.8  12.9   74.1\n",
      "198  Grizzlies      0    0     7.5   6.97  0.561   29.6  13.8   74.5\n",
      "199    Thunder      0    0    12.7  12.52  0.549   23.9  10.8   73.8\n",
      "200       Heat      1    0     0.0  -0.71  0.540   21.5  12.4   75.6\n",
      "\n",
      "[201 rows x 9 columns]\n"
     ]
    }
   ],
   "source": []
  },
  {
   "cell_type": "markdown",
   "metadata": {},
   "source": [
    "#### Training the Model"
   ]
  },
  {
   "cell_type": "markdown",
   "metadata": {},
   "source": [
    "Using scikit-learn's train_test_split function, I trained the model on 90% of the data, or 180 datapoints. I set shuffle to false because I felt that the order of the games matters in order to capture the form of the team. Below, X is the feature columns of the dataframe and y is the target column, W/L"
   ]
  },
  {
   "cell_type": "code",
   "execution_count": null,
   "metadata": {},
   "outputs": [],
   "source": [
    "X_train, X_test, y_train, y_test = train_test_split(X, y, test_size=0.1,\n",
    "                                                            shuffle=False)\n"
   ]
  },
  {
   "cell_type": "markdown",
   "metadata": {},
   "source": [
    "I then fitted the data to the training datasets and the logistic regression was able to output a probability of the team winning based on its opponent's statistics. "
   ]
  },
  {
   "cell_type": "code",
   "execution_count": null,
   "metadata": {},
   "outputs": [],
   "source": [
    "logReg = LogisticRegression(C=0.5, solver='saga', max_iter=10**5)\n",
    "logReg.fit(X_train, y_train)\n",
    "yPred = logReg.predict_proba(X_test)"
   ]
  },
  {
   "cell_type": "markdown",
   "metadata": {},
   "source": [
    "#### Interpreting Results"
   ]
  },
  {
   "cell_type": "markdown",
   "metadata": {},
   "source": [
    "Remember, this model is looking for value against the book, not just the outright winner. Taking the sportsbook odds, I converted them into an implied probability using the following formulas:\n",
    "\n",
    "If the odds are negative, Implied Probability = |odds|/(100+|odds|) and if the odds are positive, IP = 100/(100+odds)."
   ]
  },
  {
   "cell_type": "markdown",
   "metadata": {},
   "source": [
    "Continuing the Bucks vs Heat example, this is what the model shows if the Milwaukee Bucks moneyline is set at -110:"
   ]
  },
  {
   "cell_type": "code",
   "execution_count": 5,
   "metadata": {},
   "outputs": [
    {
     "name": "stdout",
     "output_type": "stream",
     "text": [
      "Calculated win probability: 0.703\tBook probability: 0.524\n",
      "Value over book: 0.179\n"
     ]
    }
   ],
   "source": []
  },
  {
   "cell_type": "markdown",
   "metadata": {},
   "source": [
    "This indicates that the bet is valuable."
   ]
  },
  {
   "cell_type": "markdown",
   "metadata": {},
   "source": [
    "#### Model Testing, Results, and Improvements"
   ]
  },
  {
   "cell_type": "markdown",
   "metadata": {},
   "source": [
    "For each bet that has a positive value over book, I  bet one unit on it. After the first round of testing, in which the model was 11/33 on picks for a loss of 4.8 units, I adjusted the weight of features, especially the Home/Away feature which was too heavily accounted for in the model. Whlie scikit-learn doesn't have built-in weighing I artificially weighted features by changing their coefficients. Currently, version 2 of the model has been correct 14/33 times for a gain of 2.8 units. Over the same period, flipping a coin would have correctly guessed 18/33 for a loss of 0.5 units. The inconsistency in the model's performance may be attributed to the model being too simple to capture the complexity of patterns in the data."
   ]
  }
 ],
 "metadata": {
  "kernelspec": {
   "display_name": "Python 3",
   "language": "python",
   "name": "python3"
  },
  "language_info": {
   "codemirror_mode": {
    "name": "ipython",
    "version": 3
   },
   "file_extension": ".py",
   "mimetype": "text/x-python",
   "name": "python",
   "nbconvert_exporter": "python",
   "pygments_lexer": "ipython3",
   "version": "3.12.4"
  }
 },
 "nbformat": 4,
 "nbformat_minor": 4
}
